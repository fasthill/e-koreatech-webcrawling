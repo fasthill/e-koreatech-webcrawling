{
 "cells": [
  {
   "cell_type": "code",
   "execution_count": 1,
   "metadata": {},
   "outputs": [
    {
     "name": "stdout",
     "output_type": "stream",
     "text": [
      "================================================================================\n",
      " 네이버 블로그 상세 내역과 이미지 정보 수집하기\n",
      "================================================================================\n"
     ]
    }
   ],
   "source": [
    "# 네이버 블로그 상세 정보 추출하기\n",
    "# 연습용 블로그 : https://blog.naver.com/hy820715/221514204265\n",
    "print(\"=\" *80)\n",
    "print(\" 네이버 블로그 상세 내역과 이미지 정보 수집하기\")\n",
    "print(\"=\" *80)"
   ]
  },
  {
   "cell_type": "code",
   "execution_count": 2,
   "metadata": {},
   "outputs": [],
   "source": [
    "#Step 1. 필요한 모듈과 라이브러리를 로딩합니다.\n",
    "from bs4 import BeautifulSoup\n",
    "from selenium import webdriver as wd\n",
    "from selenium.webdriver.common.by import By\n",
    "from selenium.webdriver.common.keys import Keys\n",
    "from selenium.webdriver.chrome.service import Service\n",
    "import time\n",
    "import sys\n",
    "import math\n",
    "import numpy \n",
    "import pandas as pd  \n",
    "import random"
   ]
  },
  {
   "cell_type": "code",
   "execution_count": 3,
   "metadata": {},
   "outputs": [],
   "source": [
    "blog_address = 'https://blog.naver.com/hy820715/221514204265'"
   ]
  },
  {
   "cell_type": "code",
   "execution_count": 5,
   "metadata": {},
   "outputs": [
    {
     "name": "stdout",
     "output_type": "stream",
     "text": [
      "1.크롤링할 블로그 주소를 입력하세요: https://blog.naver.com/hy820715/221514204265\n",
      "요청하신 데이터를 수집 중입니다\n",
      "\n",
      "\n",
      "잠시만 기다려 주세요~~~~~^^\n",
      "\n",
      "\n"
     ]
    }
   ],
   "source": [
    "#Step 2. 사용자로부터 필요한 정보 입력받기\n",
    "blog_addr = input('1.크롤링할 블로그 주소를 입력하세요: ')\n",
    "\n",
    "print(\"요청하신 데이터를 수집 중입니다\")\n",
    "print(\"\\n\")\n",
    "print(\"잠시만 기다려 주세요~~~~~^^\")\n",
    "print(\"\\n\")"
   ]
  },
  {
   "cell_type": "code",
   "execution_count": 6,
   "metadata": {},
   "outputs": [],
   "source": [
    "#Step 3. 크롬 드라이버를 사용해서 웹 브라우저를 실행합니다.\n",
    "s_time = time.time( )\n",
    "\n",
    "service = Service(r\"./116/chromedriver.exe\")\n",
    "options = wd.ChromeOptions()\n",
    "driver = wd.Chrome(service=service, options=options)"
   ]
  },
  {
   "cell_type": "code",
   "execution_count": 7,
   "metadata": {},
   "outputs": [
    {
     "data": {
      "text/plain": [
       "['https:', '', 'blog.naver.com', 'hy820715', '221514204265']"
      ]
     },
     "execution_count": 7,
     "metadata": {},
     "output_type": "execute_result"
    }
   ],
   "source": [
    "gubun = blog_addr.split(\"/\")\n",
    "gubun"
   ]
  },
  {
   "cell_type": "code",
   "execution_count": 8,
   "metadata": {},
   "outputs": [
    {
     "name": "stdout",
     "output_type": "stream",
     "text": [
      "\n",
      "\n",
      "데이터 추출 시작합니다 =================================================\n",
      "\n",
      "\n"
     ]
    }
   ],
   "source": [
    "driver.get(blog_addr)\n",
    "driver.maximize_window( )\n",
    "time.sleep(random.randrange(2,5))  # 2 - 5 초 사이에 랜덤으로 시간 선택\n",
    "\n",
    "print(\"\\n\")\n",
    "print(\"데이터 추출 시작합니다 =================================================\")\n",
    "print(\"\\n\")"
   ]
  },
  {
   "cell_type": "code",
   "execution_count": 9,
   "metadata": {},
   "outputs": [
    {
     "name": "stdout",
     "output_type": "stream",
     "text": [
      "mainFrame\n"
     ]
    }
   ],
   "source": [
    "# 모든 iframe 찾기\n",
    "iframes = driver.find_elements(By.TAG_NAME, 'iframe')\n",
    "for iframe in iframes:\n",
    "    print(iframe.get_attribute('name'))"
   ]
  },
  {
   "cell_type": "code",
   "execution_count": null,
   "metadata": {},
   "outputs": [],
   "source": [
    "driver.switch_to.default_content() # 현재의 iframe tag에서 원래의 tag로 전환"
   ]
  },
  {
   "cell_type": "code",
   "execution_count": 10,
   "metadata": {},
   "outputs": [],
   "source": [
    "l = driver.find_element(By.ID, \"mainFrame\")\n",
    "driver.switch_to.frame(l)"
   ]
  },
  {
   "cell_type": "code",
   "execution_count": 11,
   "metadata": {},
   "outputs": [],
   "source": [
    "html = driver.page_source\n",
    "soup = BeautifulSoup(html, 'html.parser')"
   ]
  },
  {
   "cell_type": "code",
   "execution_count": 12,
   "metadata": {},
   "outputs": [],
   "source": [
    "#Step 4. 각 블로그의 상세 결과를 출력하여 파일에 저장하기\n",
    "blog_addr2=[]\n",
    "w_name2=[]\n",
    "w_date2=[]\n",
    "blog_txt2=[]"
   ]
  },
  {
   "cell_type": "code",
   "execution_count": 13,
   "metadata": {},
   "outputs": [],
   "source": [
    "addr_1 = soup.select('div[class=\"se_component_wrap sect_dsc __se_component_area\"]')   \n",
    "addr_2 = soup.select('div[class=\"se-main-container\"]')  "
   ]
  },
  {
   "cell_type": "code",
   "execution_count": 22,
   "metadata": {},
   "outputs": [],
   "source": [
    "addr_3 = soup.select('div', attrs={'class':'se-main-container'})  \n",
    "addr_3 = soup.select('div.se-main-container div.se-module.se-module-text')"
   ]
  },
  {
   "cell_type": "code",
   "execution_count": 15,
   "metadata": {},
   "outputs": [
    {
     "data": {
      "text/plain": [
       "[<div class=\"se-main-container\">\n",
       " <div class=\"se-component se-text se-l-default\" id=\"SE-6e375c6b-ce3f-4827-8980-135e6910e438\">\n",
       " <div class=\"se-component-content\">\n",
       " <div class=\"se-section se-section-text se-l-default\">\n",
       " <div class=\"se-module se-module-text\">\n",
       " <!-- SE-TEXT { --><p class=\"se-text-paragraph se-text-paragraph-align-\" id=\"SE-c055e101-0b64-4c8c-87d2-235105f3dcea\" style=\"\"><span class=\"se-fs- se-ff-\" id=\"SE-564a5d6d-4afa-45b8-85a7-a30fa7831fcc\" style=\"\">웹 크롤링 진짜 많이 재미있죠?</span></p><!-- } SE-TEXT --><!-- SE-TEXT { --><p class=\"se-text-paragraph se-text-paragraph-align-\" id=\"SE-ae104af3-1a43-454a-9414-f373059ae7fb\" style=\"\"><span class=\"se-fs- se-ff-\" id=\"SE-a6f776b4-d76b-4437-a49a-4efe9941f243\" style=\"\">웹 크롤링에 대한 다양한 예제는 바로 이 책에 들어 있어요~</span></p><!-- } SE-TEXT -->\n",
       " </div>\n",
       " </div>\n",
       " </div>\n",
       " </div> <div class=\"se-component se-image se-l-default\" id=\"SE-b9a650eb-66e3-4cf5-b392-20fecb24714b\">\n",
       " <div class=\"se-component-content se-component-content-normal\">\n",
       " <div class=\"se-section se-section-image se-l-default se-section-align-\" style=\"max-width:780px;\">\n",
       " <div class=\"se-module se-module-image\" style=\"\">\n",
       " <a area-hidden=\"true\" class=\"se-module-image-link __se_image_link __se_link\" data-linkdata='{\"id\" : \"SE-b9a650eb-66e3-4cf5-b392-20fecb24714b\", \"src\" : \"https://postfiles.pstatic.net/MjAyMjExMjdfNDgg/MDAxNjY5NTA0MjQ1Mzg4.SiL0_-t6tL6N53xJ2RQ0y3Wt5XmWv4GwJoHjBTovPhUg.sqrzxsCud_xiIzV_LCU0jc7eEaOJn4FxwkuCLXJPPYYg.PNG.hy820715/%EC%8A%AC%EA%B8%B0%EB%A1%9C%EC%9A%B4%ED%8C%8C%EC%9D%B4%EC%8D%AC%EC%83%9D%ED%99%9C%ED%91%9C%EC%A7%80_2D.png\", \"originalWidth\" : \"780\", \"originalHeight\" : \"1045\", \"linkUse\" : \"false\", \"link\" : \"\"}' data-linktype=\"img\" onclick=\"return false;\" style=\"\">\n",
       " <img alt=\"\" class=\"se-image-resource egjs-visible\" data-height=\"1045\" data-lazy-src=\"\" data-width=\"780\" src=\"https://postfiles.pstatic.net/MjAyMjExMjdfNDgg/MDAxNjY5NTA0MjQ1Mzg4.SiL0_-t6tL6N53xJ2RQ0y3Wt5XmWv4GwJoHjBTovPhUg.sqrzxsCud_xiIzV_LCU0jc7eEaOJn4FxwkuCLXJPPYYg.PNG.hy820715/%EC%8A%AC%EA%B8%B0%EB%A1%9C%EC%9A%B4%ED%8C%8C%EC%9D%B4%EC%8D%AC%EC%83%9D%ED%99%9C%ED%91%9C%EC%A7%80_2D.png?type=w966\"/>\n",
       " </a>\n",
       " </div>\n",
       " </div>\n",
       " </div>\n",
       " </div>\n",
       " <div class=\"se-component se-text se-l-default\" id=\"SE-315cfcd7-9d65-4067-8691-73dfa8692366\">\n",
       " <div class=\"se-component-content\">\n",
       " <div class=\"se-section se-section-text se-l-default\">\n",
       " <div class=\"se-module se-module-text\">\n",
       " <!-- SE-TEXT { --><p class=\"se-text-paragraph se-text-paragraph-align-\" id=\"SE-00d8c86e-4bf4-4654-a35b-fc327d15f0be\" style=\"\"><span class=\"se-fs- se-ff-\" id=\"SE-43db336b-3ee6-41a7-9915-ec24fba963f2\" style=\"\">이 책안에는 다양한 유형의 웹사이트를 파이썬과 셀레니움을 활용하여 수집하는 노하우들이 다 들어 있습니다~</span></p><!-- } SE-TEXT --><!-- SE-TEXT { --><p class=\"se-text-paragraph se-text-paragraph-align-\" id=\"SE-1234fdc4-737c-41e7-b501-2c51a145b143\" style=\"\"><span class=\"se-fs- se-ff-\" id=\"SE-76d5a3b0-dda9-4e5b-9ee3-4b0087273ba3\" style=\"\">하나씩 하나씩 따라하다 보면 금방 실력자가 되어 있으실 거예요~~^^</span></p><!-- } SE-TEXT --><!-- SE-TEXT { --><p class=\"se-text-paragraph se-text-paragraph-align-\" id=\"SE-6dac34cc-4186-4fcd-b3dc-8601f7229555\" style=\"\"><span class=\"se-fs- se-ff-\" id=\"SE-e5c8a1c2-a77c-44b8-a8ab-b5c37175a887\" style=\"\">​</span></p><!-- } SE-TEXT --><!-- SE-TEXT { --><p class=\"se-text-paragraph se-text-paragraph-align-\" id=\"SE-10d28592-533c-4d75-a6bc-41ac66d4c122\" style=\"\"><span class=\"se-fs- se-ff-\" id=\"SE-5b71328c-d234-4379-a49f-cef72b33c0cd\" style=\"\">그리고 데이터베이스에 데이터를 저장한 후 조회하여 분석하는 경우도 많아서 많은 기업들이 데이터분석가나 인공지능 관련 분석가를 찾을 때</span></p><!-- } SE-TEXT --><!-- SE-TEXT { --><p class=\"se-text-paragraph se-text-paragraph-align-\" id=\"SE-de6ca327-335a-4162-b653-6435e12ed680\" style=\"\"><span class=\"se-fs- se-ff-\" id=\"SE-2e6b6b3b-3e4b-420e-839e-7a40ace59cef\" style=\"\">SQL 언어 사용 능력도 많이 요구합니다~~</span></p><!-- } SE-TEXT --><!-- SE-TEXT { --><p class=\"se-text-paragraph se-text-paragraph-align-\" id=\"SE-8a42061e-6844-487e-82de-18bdd578b087\" style=\"\"><span class=\"se-fs- se-ff-\" id=\"SE-0e683d1d-5fdc-4cf9-9a9c-d09f030affc1\" style=\"\">SQL 관련 내용은 아래의 책을 보시면 완전 쉽지만 실무에서 많이 사용하는 다양한 기법들을 배우실 수 있을거예요~~</span></p><!-- } SE-TEXT --><!-- SE-TEXT { --><p class=\"se-text-paragraph se-text-paragraph-align-\" id=\"SE-3b92c9e0-95c5-42da-a50b-cae646499cf4\" style=\"\"><span class=\"se-fs- se-ff-\" id=\"SE-425eefcb-ac64-4934-83e2-1498f535b16d\" style=\"\">[ 오라클 기반 SQL 책 ]</span></p><!-- } SE-TEXT -->\n",
       " </div>\n",
       " </div>\n",
       " </div>\n",
       " </div> <div class=\"se-component se-image se-l-default\" id=\"SE-c6bc72c5-9c70-4f75-8dbc-77edc6a8f131\">\n",
       " <div class=\"se-component-content se-component-content-fit\">\n",
       " <div class=\"se-section se-section-image se-l-default se-section-align-\">\n",
       " <div class=\"se-module se-module-image\" style=\"\">\n",
       " <a area-hidden=\"true\" class=\"se-module-image-link __se_image_link __se_link\" data-linkdata='{\"id\" : \"SE-c6bc72c5-9c70-4f75-8dbc-77edc6a8f131\", \"src\" : \"https://postfiles.pstatic.net/MjAyMjExMjdfODIg/MDAxNjY5NTA0NDYyOTY4.hZU4D_P6PRsIHvfUtFV04rC1BXRcDf3tArkktVEHqEAg.k2mFuAo8eCISG13zHIszxwOCruqPceluJnDK0hdIv94g.PNG.hy820715/image.png\", \"originalWidth\" : \"1445\", \"originalHeight\" : \"791\", \"linkUse\" : \"false\", \"link\" : \"\"}' data-linktype=\"img\" onclick=\"return false;\" style=\"\">\n",
       " <img alt=\"\" class=\"se-image-resource egjs-visible\" data-height=\"485\" data-lazy-src=\"\" data-width=\"886\" src=\"https://postfiles.pstatic.net/MjAyMjExMjdfODIg/MDAxNjY5NTA0NDYyOTY4.hZU4D_P6PRsIHvfUtFV04rC1BXRcDf3tArkktVEHqEAg.k2mFuAo8eCISG13zHIszxwOCruqPceluJnDK0hdIv94g.PNG.hy820715/image.png?type=w966\"/>\n",
       " </a>\n",
       " </div>\n",
       " </div>\n",
       " </div>\n",
       " </div>\n",
       " <div class=\"se-component se-text se-l-default\" id=\"SE-faaeaf63-e0d4-4f4b-ab0b-b1575056bfdb\">\n",
       " <div class=\"se-component-content\">\n",
       " <div class=\"se-section se-section-text se-l-default\">\n",
       " <div class=\"se-module se-module-text\">\n",
       " <!-- SE-TEXT { --><p class=\"se-text-paragraph se-text-paragraph-align-\" id=\"SE-708767e0-c822-44c3-9a1f-65233fd1ecfc\" style=\"\"><span class=\"se-fs- se-ff-\" id=\"SE-f2d02750-e901-4318-91f4-e2ea184d4107\" style=\"\">[ MySQL 기반 책 ]</span></p><!-- } SE-TEXT -->\n",
       " </div>\n",
       " </div>\n",
       " </div>\n",
       " </div> <div class=\"se-component se-image se-l-default\" id=\"SE-3da54dcc-a45b-44fd-adc0-252b8fb5afb8\">\n",
       " <div class=\"se-component-content se-component-content-normal\">\n",
       " <div class=\"se-section se-section-image se-l-default se-section-align-\" style=\"max-width:598px;\">\n",
       " <div class=\"se-module se-module-image\" style=\"\">\n",
       " <a area-hidden=\"true\" class=\"se-module-image-link __se_image_link __se_link\" data-linkdata='{\"id\" : \"SE-3da54dcc-a45b-44fd-adc0-252b8fb5afb8\", \"src\" : \"https://postfiles.pstatic.net/MjAyMjExMjdfMTgg/MDAxNjY5NTA0NTk1NjAx.KakcXxi_xtqvCfMUro84LU9HKX7tJ6HJPX3hKZZfF8wg.9mqn0BwPVgb12vLD3ps8dLwHkUfVgXxhH1_7hDbfHc0g.PNG.hy820715/%ED%91%9C%EC%A7%80%EC%95%9E%EB%A9%B4.png\", \"originalWidth\" : \"598\", \"originalHeight\" : \"753\", \"linkUse\" : \"false\", \"link\" : \"\"}' data-linktype=\"img\" onclick=\"return false;\" style=\"\">\n",
       " <img alt=\"\" class=\"se-image-resource egjs-visible\" data-height=\"753\" data-lazy-src=\"https://postfiles.pstatic.net/MjAyMjExMjdfMTgg/MDAxNjY5NTA0NTk1NjAx.KakcXxi_xtqvCfMUro84LU9HKX7tJ6HJPX3hKZZfF8wg.9mqn0BwPVgb12vLD3ps8dLwHkUfVgXxhH1_7hDbfHc0g.PNG.hy820715/%ED%91%9C%EC%A7%80%EC%95%9E%EB%A9%B4.png?type=w966\" data-width=\"598\" src=\"https://postfiles.pstatic.net/MjAyMjExMjdfMTgg/MDAxNjY5NTA0NTk1NjAx.KakcXxi_xtqvCfMUro84LU9HKX7tJ6HJPX3hKZZfF8wg.9mqn0BwPVgb12vLD3ps8dLwHkUfVgXxhH1_7hDbfHc0g.PNG.hy820715/%ED%91%9C%EC%A7%80%EC%95%9E%EB%A9%B4.png?type=w80_blur\"/>\n",
       " </a>\n",
       " </div>\n",
       " </div>\n",
       " </div>\n",
       " </div>\n",
       " <div class=\"se-component se-text se-l-default\" id=\"SE-b03c4501-ad63-4e31-bd60-250fff8ab119\">\n",
       " <div class=\"se-component-content\">\n",
       " <div class=\"se-section se-section-text se-l-default\">\n",
       " <div class=\"se-module se-module-text\">\n",
       " <!-- SE-TEXT { --><p class=\"se-text-paragraph se-text-paragraph-align-\" id=\"SE-20efe36d-1633-4d61-9b5e-5f1134ce9195\" style=\"\"><span class=\"se-fs- se-ff-\" id=\"SE-3ab5a71c-ad66-4bdb-bcb4-4c0abe94cf3a\" style=\"\">​</span></p><!-- } SE-TEXT --><!-- SE-TEXT { --><p class=\"se-text-paragraph se-text-paragraph-align-\" id=\"SE-809df9e5-a7fd-45af-a29e-ad90c1b86b10\" style=\"\"><span class=\"se-fs- se-ff-\" id=\"SE-264325ff-29d0-4a90-9499-8ada9f3b92a1\" style=\"\">무엇보다도 절대로 포기하지 말고 열공하는 자세가 가장 중요합니다~~^^</span></p><!-- } SE-TEXT --><!-- SE-TEXT { --><p class=\"se-text-paragraph se-text-paragraph-align-\" id=\"SE-67e2b4c9-21ca-4faf-9a98-a79dd42d7a48\" style=\"\"><span class=\"se-fs- se-ff-\" id=\"SE-f78ad073-ede6-4ad5-a39f-b3327cb85752\" style=\"\">열공해 주세요~~^^</span></p><!-- } SE-TEXT --><!-- SE-TEXT { --><p class=\"se-text-paragraph se-text-paragraph-align-\" id=\"SE-daf69913-0c67-41ed-80d1-cda655bfe607\" style=\"\"><span class=\"se-fs- se-ff-\" id=\"SE-90ecaa5b-80f2-4ac5-a4f0-2cb642638e16\" style=\"\">​</span></p><!-- } SE-TEXT --><!-- SE-TEXT { --><p class=\"se-text-paragraph se-text-paragraph-align-\" id=\"SE-733e8bba-11d4-4330-8010-1d3598d79cfb\" style=\"\"><span class=\"se-fs- se-ff-\" id=\"SE-0d29cbd6-7ffb-48cc-a5b0-c3efb84d2ebc\" style=\"\">가치랩장 드림.</span></p><!-- } SE-TEXT --><!-- SE-TEXT { --><p class=\"se-text-paragraph se-text-paragraph-align-\" id=\"SE-3c2ff2e3-a95c-493d-9410-3f0335103b3c\" style=\"\"><span class=\"se-fs- se-ff-\" id=\"SE-68da5340-4168-42e2-b5fa-f1bf622f77f9\" style=\"\">​</span></p><!-- } SE-TEXT --><!-- SE-TEXT { --><p class=\"se-text-paragraph se-text-paragraph-align-\" id=\"SE-249e50bc-e042-4a77-b763-538bec89e5dd\" style=\"\"><span class=\"se-fs- se-ff-\" id=\"SE-528e72f3-4d80-4892-b961-4255a1643ab0\" style=\"\">​</span></p><!-- } SE-TEXT --><!-- SE-TEXT { --><p class=\"se-text-paragraph se-text-paragraph-align-\" id=\"SE-8d25dda1-3637-42b5-ba7d-40284c3c04d5\" style=\"\"><span class=\"se-fs- se-ff-\" id=\"SE-13bd432a-6a88-459b-b536-2fd2e681cd3e\" style=\"\">​</span></p><!-- } SE-TEXT -->\n",
       " </div>\n",
       " </div>\n",
       " </div>\n",
       " </div> </div>]"
      ]
     },
     "execution_count": 15,
     "metadata": {},
     "output_type": "execute_result"
    }
   ],
   "source": [
    "addr_2"
   ]
  },
  {
   "cell_type": "code",
   "execution_count": 23,
   "metadata": {},
   "outputs": [
    {
     "data": {
      "text/plain": [
       "[<div class=\"se-module se-module-text\">\n",
       " <!-- SE-TEXT { --><p class=\"se-text-paragraph se-text-paragraph-align-\" id=\"SE-c055e101-0b64-4c8c-87d2-235105f3dcea\" style=\"\"><span class=\"se-fs- se-ff-\" id=\"SE-564a5d6d-4afa-45b8-85a7-a30fa7831fcc\" style=\"\">웹 크롤링 진짜 많이 재미있죠?</span></p><!-- } SE-TEXT --><!-- SE-TEXT { --><p class=\"se-text-paragraph se-text-paragraph-align-\" id=\"SE-ae104af3-1a43-454a-9414-f373059ae7fb\" style=\"\"><span class=\"se-fs- se-ff-\" id=\"SE-a6f776b4-d76b-4437-a49a-4efe9941f243\" style=\"\">웹 크롤링에 대한 다양한 예제는 바로 이 책에 들어 있어요~</span></p><!-- } SE-TEXT -->\n",
       " </div>,\n",
       " <div class=\"se-module se-module-text\">\n",
       " <!-- SE-TEXT { --><p class=\"se-text-paragraph se-text-paragraph-align-\" id=\"SE-00d8c86e-4bf4-4654-a35b-fc327d15f0be\" style=\"\"><span class=\"se-fs- se-ff-\" id=\"SE-43db336b-3ee6-41a7-9915-ec24fba963f2\" style=\"\">이 책안에는 다양한 유형의 웹사이트를 파이썬과 셀레니움을 활용하여 수집하는 노하우들이 다 들어 있습니다~</span></p><!-- } SE-TEXT --><!-- SE-TEXT { --><p class=\"se-text-paragraph se-text-paragraph-align-\" id=\"SE-1234fdc4-737c-41e7-b501-2c51a145b143\" style=\"\"><span class=\"se-fs- se-ff-\" id=\"SE-76d5a3b0-dda9-4e5b-9ee3-4b0087273ba3\" style=\"\">하나씩 하나씩 따라하다 보면 금방 실력자가 되어 있으실 거예요~~^^</span></p><!-- } SE-TEXT --><!-- SE-TEXT { --><p class=\"se-text-paragraph se-text-paragraph-align-\" id=\"SE-6dac34cc-4186-4fcd-b3dc-8601f7229555\" style=\"\"><span class=\"se-fs- se-ff-\" id=\"SE-e5c8a1c2-a77c-44b8-a8ab-b5c37175a887\" style=\"\">​</span></p><!-- } SE-TEXT --><!-- SE-TEXT { --><p class=\"se-text-paragraph se-text-paragraph-align-\" id=\"SE-10d28592-533c-4d75-a6bc-41ac66d4c122\" style=\"\"><span class=\"se-fs- se-ff-\" id=\"SE-5b71328c-d234-4379-a49f-cef72b33c0cd\" style=\"\">그리고 데이터베이스에 데이터를 저장한 후 조회하여 분석하는 경우도 많아서 많은 기업들이 데이터분석가나 인공지능 관련 분석가를 찾을 때</span></p><!-- } SE-TEXT --><!-- SE-TEXT { --><p class=\"se-text-paragraph se-text-paragraph-align-\" id=\"SE-de6ca327-335a-4162-b653-6435e12ed680\" style=\"\"><span class=\"se-fs- se-ff-\" id=\"SE-2e6b6b3b-3e4b-420e-839e-7a40ace59cef\" style=\"\">SQL 언어 사용 능력도 많이 요구합니다~~</span></p><!-- } SE-TEXT --><!-- SE-TEXT { --><p class=\"se-text-paragraph se-text-paragraph-align-\" id=\"SE-8a42061e-6844-487e-82de-18bdd578b087\" style=\"\"><span class=\"se-fs- se-ff-\" id=\"SE-0e683d1d-5fdc-4cf9-9a9c-d09f030affc1\" style=\"\">SQL 관련 내용은 아래의 책을 보시면 완전 쉽지만 실무에서 많이 사용하는 다양한 기법들을 배우실 수 있을거예요~~</span></p><!-- } SE-TEXT --><!-- SE-TEXT { --><p class=\"se-text-paragraph se-text-paragraph-align-\" id=\"SE-3b92c9e0-95c5-42da-a50b-cae646499cf4\" style=\"\"><span class=\"se-fs- se-ff-\" id=\"SE-425eefcb-ac64-4934-83e2-1498f535b16d\" style=\"\">[ 오라클 기반 SQL 책 ]</span></p><!-- } SE-TEXT -->\n",
       " </div>,\n",
       " <div class=\"se-module se-module-text\">\n",
       " <!-- SE-TEXT { --><p class=\"se-text-paragraph se-text-paragraph-align-\" id=\"SE-708767e0-c822-44c3-9a1f-65233fd1ecfc\" style=\"\"><span class=\"se-fs- se-ff-\" id=\"SE-f2d02750-e901-4318-91f4-e2ea184d4107\" style=\"\">[ MySQL 기반 책 ]</span></p><!-- } SE-TEXT -->\n",
       " </div>,\n",
       " <div class=\"se-module se-module-text\">\n",
       " <!-- SE-TEXT { --><p class=\"se-text-paragraph se-text-paragraph-align-\" id=\"SE-20efe36d-1633-4d61-9b5e-5f1134ce9195\" style=\"\"><span class=\"se-fs- se-ff-\" id=\"SE-3ab5a71c-ad66-4bdb-bcb4-4c0abe94cf3a\" style=\"\">​</span></p><!-- } SE-TEXT --><!-- SE-TEXT { --><p class=\"se-text-paragraph se-text-paragraph-align-\" id=\"SE-809df9e5-a7fd-45af-a29e-ad90c1b86b10\" style=\"\"><span class=\"se-fs- se-ff-\" id=\"SE-264325ff-29d0-4a90-9499-8ada9f3b92a1\" style=\"\">무엇보다도 절대로 포기하지 말고 열공하는 자세가 가장 중요합니다~~^^</span></p><!-- } SE-TEXT --><!-- SE-TEXT { --><p class=\"se-text-paragraph se-text-paragraph-align-\" id=\"SE-67e2b4c9-21ca-4faf-9a98-a79dd42d7a48\" style=\"\"><span class=\"se-fs- se-ff-\" id=\"SE-f78ad073-ede6-4ad5-a39f-b3327cb85752\" style=\"\">열공해 주세요~~^^</span></p><!-- } SE-TEXT --><!-- SE-TEXT { --><p class=\"se-text-paragraph se-text-paragraph-align-\" id=\"SE-daf69913-0c67-41ed-80d1-cda655bfe607\" style=\"\"><span class=\"se-fs- se-ff-\" id=\"SE-90ecaa5b-80f2-4ac5-a4f0-2cb642638e16\" style=\"\">​</span></p><!-- } SE-TEXT --><!-- SE-TEXT { --><p class=\"se-text-paragraph se-text-paragraph-align-\" id=\"SE-733e8bba-11d4-4330-8010-1d3598d79cfb\" style=\"\"><span class=\"se-fs- se-ff-\" id=\"SE-0d29cbd6-7ffb-48cc-a5b0-c3efb84d2ebc\" style=\"\">가치랩장 드림.</span></p><!-- } SE-TEXT --><!-- SE-TEXT { --><p class=\"se-text-paragraph se-text-paragraph-align-\" id=\"SE-3c2ff2e3-a95c-493d-9410-3f0335103b3c\" style=\"\"><span class=\"se-fs- se-ff-\" id=\"SE-68da5340-4168-42e2-b5fa-f1bf622f77f9\" style=\"\">​</span></p><!-- } SE-TEXT --><!-- SE-TEXT { --><p class=\"se-text-paragraph se-text-paragraph-align-\" id=\"SE-249e50bc-e042-4a77-b763-538bec89e5dd\" style=\"\"><span class=\"se-fs- se-ff-\" id=\"SE-528e72f3-4d80-4892-b961-4255a1643ab0\" style=\"\">​</span></p><!-- } SE-TEXT --><!-- SE-TEXT { --><p class=\"se-text-paragraph se-text-paragraph-align-\" id=\"SE-8d25dda1-3637-42b5-ba7d-40284c3c04d5\" style=\"\"><span class=\"se-fs- se-ff-\" id=\"SE-13bd432a-6a88-459b-b536-2fd2e681cd3e\" style=\"\">​</span></p><!-- } SE-TEXT -->\n",
       " </div>]"
      ]
     },
     "execution_count": 23,
     "metadata": {},
     "output_type": "execute_result"
    }
   ],
   "source": [
    "addr_3"
   ]
  },
  {
   "cell_type": "code",
   "execution_count": null,
   "metadata": {},
   "outputs": [],
   "source": [
    "img_no = 1\n",
    "print()\n",
    "print(\"요청하신 블로그는 유형 2형이고 해당 블로그 정보를 수집합니다~~~~~~~~~~\")\n",
    "\n",
    "# 블로그 주소\n",
    "print(\"1.블로그주소: \",blog_addr)\n",
    "blog_addr2.append(blog_addr)\n",
    "\n",
    "# 작성자 닉네임\n",
    "writer = soup.select(\"div.blog2_container > span.writer\")\n",
    "try :\n",
    "    wname = writer[0].get_text( )   # 작성자 닉네임\n",
    "except IndexError :\n",
    "    wname = \"작성자 닉네임이 없습니다\"\n",
    "else :\n",
    "    wname = wname.replace(\"\\n\",\"\")\n",
    "\n",
    "print(\"2.작성자 닉네임: \",wname )\n",
    "w_name2.append(wname)\n",
    "\n",
    "# 작성일자\n",
    "wdate = soup.select(\"div.blog2_container > span.se_publishDate.pcol2\")\n",
    "try : \n",
    "    wdate = wdate[0].get_text( )\n",
    "except IndexError :\n",
    "    wdate = ' '\n",
    "\n",
    "print(\"3.작성일자:\",wdate)\n",
    "w_date2.append(wdate)\n",
    "\n",
    "#블로그 본문 내용\n",
    "for i in addr_2:\n",
    "    blog_txt = i.text.replace(\"\\n\",\"\")\n",
    "    print(\"4.블로그내용: \\n\",blog_txt) \n",
    "    print(\"\\n\")\n",
    "    blog_txt2.append(blog_txt)"
   ]
  },
  {
   "cell_type": "code",
   "execution_count": null,
   "metadata": {},
   "outputs": [],
   "source": [
    "text_list = driver.find_elements(By.CSS_SELECTOR, 'div.se-module.se-module-text > span.se-fs-.se-ff-   ')\n",
    "text_list = driver.find_elements(By.CSS_SELECTOR, 'div.se-module.se-module-text  span.se-fs-.se-ff-   ')\n",
    "for i in text_list:\n",
    "    print(i.text)"
   ]
  },
  {
   "cell_type": "code",
   "execution_count": null,
   "metadata": {},
   "outputs": [],
   "source": [
    "text_list = driver.find_elements(By.CSS_SELECTOR, 'div.se-module.se-module-text.se-title-text')\n",
    "for i in text_list:\n",
    "    print(i.text)"
   ]
  },
  {
   "cell_type": "code",
   "execution_count": null,
   "metadata": {},
   "outputs": [],
   "source": [
    "text_list = driver.find_elements(By.CSS_SELECTOR, 'div.se-module')\n",
    "for i in text_list:\n",
    "    print(i.text)"
   ]
  },
  {
   "cell_type": "code",
   "execution_count": null,
   "metadata": {},
   "outputs": [],
   "source": [
    "text_list = driver.find_elements(By.CSS_SELECTOR, 'div.se-module.se-module-text')\n",
    "for i in text_list:\n",
    "    print(i.text)"
   ]
  },
  {
   "cell_type": "code",
   "execution_count": null,
   "metadata": {},
   "outputs": [],
   "source": [
    "text_list = soup.find_all('div', attrs={'class':'se-module'})\n",
    "for i in text_list:\n",
    "    print(i)\n",
    "    print(i.get_text())\n",
    "    print(\"+\"*20)\n",
    "    for j in i.select(\"p.se-text-paragraph.se-text-paragraph-align-\"):\n",
    "        print(j.get_text())\n",
    "    print(\"+\"*40)"
   ]
  },
  {
   "cell_type": "code",
   "execution_count": null,
   "metadata": {},
   "outputs": [],
   "source": [
    "len(i.select(\"p.se-text-paragraph.se-text-paragraph-align-\"))"
   ]
  },
  {
   "cell_type": "code",
   "execution_count": null,
   "metadata": {},
   "outputs": [],
   "source": [
    "text_list.select(\"p.se-text-paragraph.se-text-paragraph-align-\")"
   ]
  },
  {
   "cell_type": "code",
   "execution_count": null,
   "metadata": {},
   "outputs": [],
   "source": [
    "text_list = soup.find_all('div', attrs={'class':'se-module se-module-text'})\n",
    "for i in text_list:\n",
    "    print(i.get_text())"
   ]
  },
  {
   "cell_type": "code",
   "execution_count": null,
   "metadata": {},
   "outputs": [],
   "source": [
    "driver.find_elements(By.ID, 'SE-c055e101-0b64-4c8c-87d2-235105f3dcea')[0].text"
   ]
  },
  {
   "cell_type": "code",
   "execution_count": null,
   "metadata": {},
   "outputs": [],
   "source": [
    "selection = driver.find_elements(By.CSS_SELECTOR, '#SE-564a5d6d-4afa-45b8-85a7-a30fa7831fcc')"
   ]
  },
  {
   "cell_type": "code",
   "execution_count": null,
   "metadata": {},
   "outputs": [],
   "source": [
    "selection[0].text"
   ]
  },
  {
   "cell_type": "code",
   "execution_count": null,
   "metadata": {},
   "outputs": [],
   "source": [
    "\n",
    "\n",
    "gubun = blog_addr.split(\"/\")\n",
    "\n",
    "if gubun[2] != 'blog.naver.com' :\n",
    "    print(\" 네이버 블로그만 가능합니다\")\n",
    "    \n",
    "else :\n",
    "    driver.get(blog_addr)\n",
    "    driver.maximize_window( )\n",
    "    time.sleep(random.randrange(2,5))  # 2 - 5 초 사이에 랜덤으로 시간 선택\n",
    "      \n",
    "    print(\"\\n\")\n",
    "    print(\"데이터 추출 시작합니다 =================================================\")\n",
    "    print(\"\\n\")\n",
    "\n",
    "    # iframe 전환하기\n",
    "    driver.switch_to.frame('mainFrame')\n",
    "    \n",
    "    #전체 소스코드 가져오기\n",
    "    html = driver.page_source\n",
    "    soup = BeautifulSoup(html, 'html.parser')\n",
    "    \n",
    "    addr_1 = soup.select('div[class=\"se_component_wrap sect_dsc __se_component_area\"]')   \n",
    "    addr_2 = soup.select('div[class=\"se-main-container\"]')  \n",
    "\n",
    "    if addr_1 :\n",
    "        img_no =  1\n",
    "        print()\n",
    "        print(\"요청하신 블로그는 유형 1형이고 해당 블로그 정보를 수집합니다~~~~~~~~~~\")\n",
    "        \n",
    "        # 블로그 주소\n",
    "        print(\"1.블로그주소: \",blog_addr)\n",
    "        blog_addr2.append(blog_addr)\n",
    "        \n",
    "        # 작성자 닉네임\n",
    "        writer = soup.select(\"div.blog2_container > span.writer\")\n",
    "        try :\n",
    "            wname = writer[0].get_text( )   # 작성자 닉네임\n",
    "        except IndexError :\n",
    "            wname = \"작성자 닉네임이 없습니다\"\n",
    "        else :\n",
    "            wname = wname.replace(\"\\n\",\"\")\n",
    "\n",
    "        print(\"2.작성자 닉네임: \",wname )\n",
    "        w_name2.append(wname)\n",
    "        \n",
    "        # 작성일자\n",
    "        wdate = soup.select(\"div.blog2_container > span.se_publishDate.pcol2\")\n",
    "        try : \n",
    "            wdate = wdate[0].get_text( )\n",
    "        except IndexError :\n",
    "            wdate = ' '\n",
    "\n",
    "        print(\"3.작성일자:\",wdate)\n",
    "        w_date2.append(wdate)\n",
    "\n",
    "        # 블로그 본문 내용\n",
    "        for i in addr_1:\n",
    "            blog_txt = i.text.replace(\"\\n\",\"\")\n",
    "            print(\"4.블로그내용: \\n\",blog_txt) \n",
    "            print(\"\\n\")\n",
    "            blog_txt2.append(blog_txt)\n",
    "            \n",
    "    elif addr_2 :\n",
    "        img_no = 1\n",
    "        print()\n",
    "        print(\"요청하신 블로그는 유형 2형이고 해당 블로그 정보를 수집합니다~~~~~~~~~~\")\n",
    "        \n",
    "        # 블로그 주소\n",
    "        print(\"1.블로그주소: \",blog_addr)\n",
    "        blog_addr2.append(blog_addr)\n",
    "        \n",
    "        # 작성자 닉네임\n",
    "        writer = soup.select(\"div.blog2_container > span.writer\")\n",
    "        try :\n",
    "            wname = writer[0].get_text( )   # 작성자 닉네임\n",
    "        except IndexError :\n",
    "            wname = \"작성자 닉네임이 없습니다\"\n",
    "        else :\n",
    "            wname = wname.replace(\"\\n\",\"\")\n",
    "\n",
    "        print(\"2.작성자 닉네임: \",wname )\n",
    "        w_name2.append(wname)\n",
    "        \n",
    "        # 작성일자\n",
    "        wdate = soup.select(\"div.blog2_container > span.se_publishDate.pcol2\")\n",
    "        try : \n",
    "            wdate = wdate[0].get_text( )\n",
    "        except IndexError :\n",
    "            wdate = ' '\n",
    "\n",
    "        print(\"3.작성일자:\",wdate)\n",
    "        w_date2.append(wdate)\n",
    "        \n",
    "        #블로그 본문 내용\n",
    "        for i in addr_2:\n",
    "            blog_txt = i.text.replace(\"\\n\",\"\")\n",
    "            print(\"4.블로그내용: \\n\",blog_txt) \n",
    "            print(\"\\n\")\n",
    "            blog_txt2.append(blog_txt)\n",
    "                \n",
    "        \n",
    "driver.close()"
   ]
  },
  {
   "cell_type": "code",
   "execution_count": null,
   "metadata": {},
   "outputs": [],
   "source": []
  },
  {
   "cell_type": "code",
   "execution_count": null,
   "metadata": {
    "scrolled": false
   },
   "outputs": [],
   "source": [
    "# 구 주소 블로그 : https://blog.naver.com/junhyuk_abba/221286810022  - postViewArea 클래스명 사용\n",
    "# 신 주소 블로그 : https://blog.naver.com/suheeryu/221314766979 - se_component_wrap 클래스명 사용\n",
    "# 신 주소 블로그 :  https://blog.naver.com/ultrabat/222670803753 - se-main-container 클래스명 사용\n",
    "\n",
    "print(\"=\" *80)\n",
    "print(\" 여러건의 블로그  크롤러 : 네이버 view -> 블로그 정보 수집하기\")\n",
    "print(\"=\" *80)\n",
    "\n",
    "#Step 1. 필요한 모듈과 라이브러리를 로딩합니다.\n",
    "from bs4 import BeautifulSoup\n",
    "from selenium import webdriver\n",
    "from selenium.webdriver.common.by import By\n",
    "from selenium.webdriver.common.keys import Keys\n",
    "from selenium.webdriver.chrome.service import Service\n",
    "import time\n",
    "import pandas  as pd    \n",
    "import math\n",
    "import urllib.request\n",
    "import urllib\n",
    "\n",
    "#Step 2. 필요한 정보 입력받기\n",
    "query_txt = input('1.정보를 수집할 키워드는 무엇입니까?: ')\n",
    "cnt = int(input('2.몇 건의 정보를 수집할까요? :'))\n",
    "page_cnt = math.ceil( cnt / 60 )\n",
    "f_dir = input(\"3.파일을 저장할 폴더명만 쓰세요(기본값:c:\\\\py_temp\\\\):\")\n",
    "if f_dir == '' :\n",
    "    f_dir=\"c:\\\\py_temp\\\\\"\n",
    "\n",
    "\n",
    "s_time = time.time( )\n",
    "\n",
    "#Step3. 검색어 입력한 후 검색하여 View로 이동하기\n",
    "s = Service(\"c:/py_temp/chromedriver.exe\")\n",
    "driver = webdriver.Chrome(service=s)\n",
    "\n",
    "url = 'https://www.naver.com'\n",
    "driver.get(url)\n",
    "driver.maximize_window( )\n",
    "time.sleep(2)\n",
    "\n",
    "element = driver.find_element(By.NAME,\"query\")\n",
    "element.send_keys(query_txt)\n",
    "element.send_keys('\\n')\n",
    "\n",
    "driver.find_element(By.LINK_TEXT,\"VIEW\").click()\n",
    "driver.find_element(By.LINK_TEXT,\"블로그\").click()\n",
    "time.sleep(1)\n",
    "\n",
    "# Step 4. 검색 요청 건수만큼 화면 스크롤링 하기\n",
    "# 자동 스크롤다운 함수\n",
    "def scroll_down(driver):\n",
    "    driver.execute_script(\"window.scrollTo(0,document.body.scrollHeight);\")\n",
    "    time.sleep(3)\n",
    "\n",
    "if page_cnt > 2 :    \n",
    "    i = 1\n",
    "    while (i <= page_cnt+2):\n",
    "        scroll_down(driver) \n",
    "        i += 1\n",
    "        print('%s 페이지 정보를 추출하고 있으니 잠시만 기다려 주세요~~^^' %i)\n",
    "\n",
    "# Step 5. 현재 조회된 목록에서 URL 주소를 추출하여 리스트 생성하기\n",
    "url_all_list=[]    #조회할 블로그의 URL 정보 저장용 리스트\n",
    "\n",
    "html = driver.page_source\n",
    "soup = BeautifulSoup(html, 'html.parser')\n",
    "url_list_1 = soup.find('ul','lst_total').find_all('li')\n",
    "\n",
    "for a in url_list_1 :\n",
    "    url_all_list.append( a.find('div','total_area').find_all('a') )\n",
    "\n",
    "url_detail=[]\n",
    "for b in range(0,len(url_all_list)) :\n",
    "    url_detail.append( url_all_list[b][5]['href'] )\n",
    "\n",
    "url_final_list=[]   # 수집할 블로그 리스트를 저장할 변수\n",
    "no = 1\n",
    "for c in url_detail :    \n",
    "    if c.split('/')[2] == 'blog.naver.com' :\n",
    "        url_final_list.append(c)\n",
    "        no += 1\n",
    "\n",
    "        if no > cnt :\n",
    "            break\n",
    "\n",
    "d_no = 1\n",
    "print('')\n",
    "print('정보를 수집할 블로그 URL 주소는 아래와 같습니다~~~')\n",
    "print('')\n",
    "for d in url_final_list :   \n",
    "    print(d_no,':',d)\n",
    "    d_no += 1\n",
    "\n",
    "print('')\n",
    "\n",
    "#Step 6. 수집된 URL 주소에 접속하여 데이터 추출하기\n",
    "\n",
    "blog_addr2 = []\n",
    "w_name2 = []\n",
    "w_date2 = []\n",
    "blog_txt2 = []\n",
    "\n",
    "no = 1   # 전체 게시글 번호용 변수\n",
    "\n",
    "for blog_addr in url_final_list :            \n",
    "    driver.get(blog_addr)\n",
    "    driver.maximize_window( )\n",
    "    time.sleep(3)\n",
    "\n",
    "    driver.switch_to.frame('mainFrame')\n",
    "    \n",
    "    html = driver.page_source\n",
    "    soup = BeautifulSoup(html, 'html.parser')\n",
    "\n",
    "    addr_1 = soup.select('#postViewArea')   \n",
    "    addr_2 = soup.select('div[class=\"se_component_wrap sect_dsc __se_component_area\"]')   \n",
    "    addr_3 = soup.select('div[class=\"se-main-container\"]')  \n",
    "\n",
    "    if addr_1 :\n",
    "        img_no = 1\n",
    "        print()\n",
    "        print(\"유형 1이고 %s번째 게시글 정보를 수집합니다~~~~~~~~~~\" %no)\n",
    "        \n",
    "        # 블로그 URL 주소\n",
    "        print(\"1.블로그주소: \",blog_addr)\n",
    "        blog_addr2.append(blog_addr)\n",
    "        \n",
    "        # 작성자 닉네임\n",
    "        writer = soup.select(\"div.blog2_container > span.writer\")\n",
    "        try :\n",
    "                wname = writer[0].get_text( )   # 작성자 닉네임\n",
    "        except IndexError :\n",
    "                wname = \"작성자 닉네임이 없습니다\"\n",
    "        else :\n",
    "                wname = wname.replace(\"\\n\",\"\")\n",
    "\n",
    "        print(\"2.작성자 닉네임: \",wname )\n",
    "        w_name2.append(wname)\n",
    "        \n",
    "        # 작성일자\n",
    "        wdate = soup.select('p[class=\"date fil5 pcol2 _postAddDate\"]')\n",
    "        try : \n",
    "                wdate = wdate[0].get_text( )\n",
    "        except IndexError :\n",
    "                wdate = ' '\n",
    "\n",
    "        print(\"3.작성일자:\",wdate)\n",
    "        w_date2.append(wdate)\n",
    "\n",
    "        # 블로그 본문 내용\n",
    "        for i in addr_1:\n",
    "            blog_txt = i.text.replace(\"\\n\",\"\")\n",
    "            print(\"4.블로그내용: \\n\",blog_txt) # 엔터키를 제거하는 코드\n",
    "            print(\"\\n\")\n",
    "            blog_txt2.append(blog_txt)\n",
    "                \n",
    "        \n",
    "    elif addr_2 :\n",
    "        img_no =  1\n",
    "        print()\n",
    "        print(\"유형 2 이고 %s번째 게시글 정보를 수집합니다~~~~~~~~~~\" %no)\n",
    "        \n",
    "        # 블로그 주소\n",
    "        print(\"1.블로그주소: \",blog_addr)\n",
    "        blog_addr2.append(blog_addr)\n",
    "        \n",
    "        # 작성자 닉네임\n",
    "        writer = soup.select(\"div.blog2_container > span.writer\")\n",
    "        try :\n",
    "            wname = writer[0].get_text( )   # 작성자 닉네임\n",
    "        except IndexError :\n",
    "            wname = \"작성자 닉네임이 없습니다\"\n",
    "        else :\n",
    "            wname = wname.replace(\"\\n\",\"\")\n",
    "\n",
    "        print(\"2.작성자 닉네임: \",wname )\n",
    "        w_name2.append(wname)\n",
    "        \n",
    "        # 작성일자\n",
    "        wdate = soup.select(\"div.blog2_container > span.se_publishDate.pcol2\")\n",
    "        try : \n",
    "            wdate = wdate[0].get_text( )\n",
    "        except IndexError :\n",
    "            wdate = ' '\n",
    "\n",
    "        print(\"3.작성일자:\",wdate)\n",
    "        w_date2.append(wdate)\n",
    "\n",
    "        # 블로그 본문 내용\n",
    "        for i in addr_2:\n",
    "            blog_txt = i.text.replace(\"\\n\",\"\")\n",
    "            print(\"4.블로그내용: \\n\",blog_txt) \n",
    "            print(\"\\n\")\n",
    "            blog_txt2.append(blog_txt)\n",
    "                \n",
    "        \n",
    "    elif addr_3 :\n",
    "        img_no = 1\n",
    "        print()\n",
    "        print(\"유형 3이고 %s번째 게시글 정보를 수집합니다~~~~~~~~~~\" %no)\n",
    "        \n",
    "        # 블로그 주소\n",
    "        print(\"1.블로그주소: \",blog_addr)\n",
    "        blog_addr2.append(blog_addr)\n",
    "        \n",
    "        # 작성자 닉네임\n",
    "        writer = soup.select(\"div.blog2_container > span.writer\")\n",
    "        try :\n",
    "            wname = writer[0].get_text( )   # 작성자 닉네임\n",
    "        except IndexError :\n",
    "            wname = \"작성자 닉네임이 없습니다\"\n",
    "        else :\n",
    "            wname = wname.replace(\"\\n\",\"\")\n",
    "\n",
    "        print(\"2.작성자 닉네임: \",wname )\n",
    "        w_name2.append(wname)\n",
    "        \n",
    "        # 작성일자\n",
    "        wdate = soup.select(\"div.blog2_container > span.se_publishDate.pcol2\")\n",
    "        try : \n",
    "            wdate = wdate[0].get_text( )\n",
    "        except IndexError :\n",
    "            wdate = ' '\n",
    "\n",
    "        print(\"3.작성일자:\",wdate)\n",
    "        w_date2.append(wdate)\n",
    "        \n",
    "        #블로그 본문 내용\n",
    "        for i in addr_3:\n",
    "            blog_txt = i.text.replace(\"\\n\",\"\")\n",
    "            print(\"4.블로그내용: \\n\",blog_txt) \n",
    "            print(\"\\n\")\n",
    "            blog_txt2.append(blog_txt)\n",
    "                \n",
    "        \n",
    "    no += 1\n",
    "\n",
    "driver.close( )"
   ]
  },
  {
   "cell_type": "code",
   "execution_count": null,
   "metadata": {},
   "outputs": [],
   "source": [
    "def maxprint( *a ) :\n",
    "    max = 0\n",
    "    for i in a :\n",
    "        if i > max :\n",
    "            max = i\n",
    "    return max\n",
    "\n",
    "maxprint(3,2,5,9,4)"
   ]
  },
  {
   "cell_type": "code",
   "execution_count": 35,
   "metadata": {},
   "outputs": [],
   "source": [
    "css_soup = BeautifulSoup('<p class=\"body strikeout      \">kkk</p>')"
   ]
  },
  {
   "cell_type": "code",
   "execution_count": 36,
   "metadata": {},
   "outputs": [
    {
     "data": {
      "text/plain": [
       "['body', 'strikeout']"
      ]
     },
     "execution_count": 36,
     "metadata": {},
     "output_type": "execute_result"
    }
   ],
   "source": [
    "css_soup.p['class']"
   ]
  },
  {
   "cell_type": "code",
   "execution_count": 37,
   "metadata": {},
   "outputs": [
    {
     "data": {
      "text/plain": [
       "'kkk'"
      ]
     },
     "execution_count": 37,
     "metadata": {},
     "output_type": "execute_result"
    }
   ],
   "source": [
    "css_soup.select('p.body.strikeout')[0].get_text()"
   ]
  },
  {
   "cell_type": "code",
   "execution_count": null,
   "metadata": {},
   "outputs": [],
   "source": []
  }
 ],
 "metadata": {
  "kernelspec": {
   "display_name": "Python 3 (ipykernel)",
   "language": "python",
   "name": "python3"
  },
  "language_info": {
   "codemirror_mode": {
    "name": "ipython",
    "version": 3
   },
   "file_extension": ".py",
   "mimetype": "text/x-python",
   "name": "python",
   "nbconvert_exporter": "python",
   "pygments_lexer": "ipython3",
   "version": "3.9.1"
  }
 },
 "nbformat": 4,
 "nbformat_minor": 2
}
