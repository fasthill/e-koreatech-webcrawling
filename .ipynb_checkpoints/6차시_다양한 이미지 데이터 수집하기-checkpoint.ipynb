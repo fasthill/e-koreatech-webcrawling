{
 "cells": [
  {
   "cell_type": "code",
   "execution_count": null,
   "metadata": {},
   "outputs": [],
   "source": [
    "# 다양한 이미지 데이터 수집하기\n",
    "# 필요한 모듈과 라이브러리를 로딩하고 검색어를 입력 받습니다\n",
    "from bs4 import BeautifulSoup\n",
    "from selenium import webdriver as wd\n",
    "from selenium.webdriver.common.by import By\n",
    "from selenium.webdriver.common.keys import Keys\n",
    "from selenium.webdriver.chrome.service import Service\n",
    "import urllib.request\n",
    "import urllib\n",
    "import time\n",
    "import sys\n",
    "import math\n",
    "import os\n",
    "import random"
   ]
  },
  {
   "cell_type": "code",
   "execution_count": null,
   "metadata": {},
   "outputs": [],
   "source": [
    "#사용자에게 필요한 정보들을를 입력 받습니다.\n",
    "print(\"=\" *80)\n",
    "print(\" 이 크롤러는 이미지 정보를 수집합니다\")\n",
    "print(\"=\" *80)\n",
    "\n",
    "query_txt = input('1.크롤링할 이미지의 키워드는 무엇입니까?: ')\n",
    "cnt_c = input('2.크롤링 할 건수는 몇건입니까?: ')\n",
    "if cnt_c =='' :\n",
    "        cnt = 5\n",
    "else :\n",
    "    cnt = int(cnt_c)\n",
    "real_cnt = math.ceil(cnt / 20)\n",
    "f_dir=input('3.파일이 저장될 경로만 쓰세요(예: ./py_temp/ ) : ')\n",
    "if f_dir =='' :\n",
    "        f_dir = \"./py_temp/\""
   ]
  },
  {
   "cell_type": "code",
   "execution_count": null,
   "metadata": {},
   "outputs": [],
   "source": [
    "#파일을 저장할 폴더를 생성합니다\n",
    "n = time.localtime()\n",
    "s = '%04d-%02d-%02d-%02d-%02d-%02d' % (n.tm_year, n.tm_mon, n.tm_mday, n.tm_hour, n.tm_min, n.tm_sec)\n",
    "\n",
    "img_dir = f_dir+s+'-'+query_txt\n",
    "os.makedirs(img_dir)\n",
    "os.chdir(img_dir) "
   ]
  },
  {
   "cell_type": "code",
   "execution_count": null,
   "metadata": {},
   "outputs": [],
   "source": [
    "os.getcwd()"
   ]
  },
  {
   "cell_type": "code",
   "execution_count": null,
   "metadata": {},
   "outputs": [],
   "source": [
    "#크롬 드라이버를 사용해서 웹 브라우저를 실행합니다.\n",
    "s_time = time.time( )\n",
    "\n",
    "service = Service(r\"../../116/chromedriver.exe\")\n",
    "options = wd.ChromeOptions()\n",
    "driver = wd.Chrome(service=service, options=options)"
   ]
  },
  {
   "cell_type": "code",
   "execution_count": null,
   "metadata": {},
   "outputs": [],
   "source": [
    "driver.get('https://www.naver.com')\n",
    "time.sleep(random.randrange(2,5))\n",
    "\n",
    "element = driver.find_element(By.ID,\"query\")\n",
    "element.send_keys(query_txt)\n",
    "element.submit()\n",
    "\n",
    "# driver.find_element(By.ID,\"search-btn\").click()"
   ]
  },
  {
   "cell_type": "code",
   "execution_count": null,
   "metadata": {},
   "outputs": [],
   "source": [
    "#이미지 링크를 선택합니다\n",
    "driver.find_element(By.LINK_TEXT,\"이미지\").click()"
   ]
  },
  {
   "cell_type": "code",
   "execution_count": null,
   "metadata": {},
   "outputs": [],
   "source": [
    "#스크롤 다운 함수 생성 후 화면 이동하기\n",
    "def scroll_down(driver):\n",
    "#     driver.execute_script(\"window.scrollTo(0,document.body.scrollHeight);\")\n",
    "    driver.execute_script(\"window.scrollTo(0,10000);\")\n",
    "    time.sleep(3)"
   ]
  },
  {
   "cell_type": "code",
   "execution_count": null,
   "metadata": {},
   "outputs": [],
   "source": [
    "def scroll_down_bottom(self):\n",
    "    \"\"\"A method for scrolling the page.\"\"\"\n",
    "\n",
    "    # Get scroll height.\n",
    "    last_height = self.driver.execute_script(\"return document.body.scrollHeight\")\n",
    "\n",
    "    while True:\n",
    "\n",
    "        # Scroll down to the bottom.\n",
    "        self.driver.execute_script(\"window.scrollTo(0, document.body.scrollHeight);\")\n",
    "\n",
    "        # Wait to load the page.\n",
    "        time.sleep(2)\n",
    "\n",
    "        # Calculate new scroll height and compare with last scroll height.\n",
    "        new_height = self.driver.execute_script(\"return document.body.scrollHeight\")\n",
    "\n",
    "        if new_height == last_height:\n",
    "\n",
    "            break\n",
    "\n",
    "        last_height = new_height"
   ]
  },
  {
   "cell_type": "code",
   "execution_count": null,
   "metadata": {},
   "outputs": [],
   "source": [
    "def scroll_down_bottom():\n",
    "    \"\"\"A method for scrolling the page.\"\"\"\n",
    "\n",
    "    # Get scroll height.\n",
    "    last_height = driver.execute_script(\"return document.body.scrollHeight\")\n",
    "\n",
    "    while True:\n",
    "\n",
    "        # Scroll down to the bottom.\n",
    "        driver.execute_script(\"window.scrollTo(0, document.body.scrollHeight);\")\n",
    "\n",
    "        # Wait to load the page.\n",
    "        time.sleep(2)\n",
    "\n",
    "        # Calculate new scroll height and compare with last scroll height.\n",
    "        new_height = driver.execute_script(\"return document.body.scrollHeight\")\n",
    "\n",
    "        if new_height == last_height:\n",
    "\n",
    "            break\n",
    "\n",
    "        last_height = new_height\n",
    "        \n",
    "    return True"
   ]
  },
  {
   "cell_type": "code",
   "execution_count": null,
   "metadata": {},
   "outputs": [],
   "source": [
    "# from selenium.webdriver import ActionChains # scroll down 사용하기 위하여 선서\n",
    "\n",
    "# # id가 jsOpenView_1 인 element 를 찾음\n",
    "# # stop_tag = driver.find_element(By.ID, 'jsOpenView_1')\n",
    "# stop_tag = driver.find_element(By.ID, 'footer')\n",
    "\n",
    "# # jsOpenView_1 element 까지 스크롤\n",
    "# action = ActionChains(driver)\n",
    "# action.move_to_element(stop_tag).perform()"
   ]
  },
  {
   "cell_type": "code",
   "execution_count": null,
   "metadata": {},
   "outputs": [],
   "source": [
    "i = 1\n",
    "while (i <= real_cnt):\n",
    "    scroll_down(driver) \n",
    "    i += 1\n",
    "\n",
    "#이미지 추출하기  \n",
    "file_no = 1\n",
    "count = 1\n",
    "img_src2=[]\n",
    "\n",
    "html = driver.page_source\n",
    "soup = BeautifulSoup(html, 'html.parser')\n",
    "\n",
    "img_src = soup.find('div','photo_tile _grid').find_all('div','photo_bx api_ani_send _photoBox')\n",
    "\n",
    "# 아래 코드로 img 태그의 src 속성을 확인할 수 있습니다.\n",
    "#print(img_src[0].find('img')['src'])"
   ]
  },
  {
   "cell_type": "code",
   "execution_count": null,
   "metadata": {},
   "outputs": [],
   "source": [
    "img_src[0].find('img')['src']"
   ]
  },
  {
   "cell_type": "code",
   "execution_count": null,
   "metadata": {},
   "outputs": [],
   "source": []
  },
  {
   "cell_type": "code",
   "execution_count": null,
   "metadata": {},
   "outputs": [],
   "source": [
    "for i in img_src :\n",
    "        img_src1= i.find('img')['src']\n",
    "        print(img_src1)\n",
    "        print()"
   ]
  },
  {
   "cell_type": "code",
   "execution_count": null,
   "metadata": {},
   "outputs": [],
   "source": [
    "# 수집 대상 이미지의 URL 정보 추출\n",
    "for i in img_src :\n",
    "        img_src1= i.find('img')['src']\n",
    "        if 'http' in img_src1 :\n",
    "            img_src2.append(img_src1)\n",
    "            \n",
    "        count += 1"
   ]
  },
  {
   "cell_type": "code",
   "execution_count": null,
   "metadata": {
    "scrolled": true
   },
   "outputs": [],
   "source": [
    "# 이미지 다운로드하여 저장하기\n",
    "for i in range(0,len(img_src2)) :\n",
    "        try :\n",
    "                urllib.request.urlretrieve(img_src2[i],str(file_no)+'.jpg')\n",
    "        except :\n",
    "                continue        \n",
    "            \n",
    "        time.sleep(0.5)      \n",
    "        print(\"%s 번째 이미지 저장중입니다=======\" %file_no)\n",
    "        \n",
    "        file_no += 1  \n",
    "                \n",
    "        if file_no > cnt :\n",
    "            break"
   ]
  },
  {
   "cell_type": "code",
   "execution_count": null,
   "metadata": {
    "scrolled": true
   },
   "outputs": [],
   "source": [
    "# 이미지 이름에 한글이 들어갈 경우 조치방법\n",
    "for i in range(0,len(img_src2)) :\n",
    "    file_no += 1 \n",
    "    urllib.request.urlretrieve(urllib.parse.quote(img_src2[i].encode('utf8'), '/:'),\\\n",
    "                               str(file_no)+'.jpg')\n",
    "\n",
    "    time.sleep(0.5)      \n",
    "    print(\"%s 번째 이미지 저장중입니다=======\" %file_no)\n",
    "\n",
    "    file_no += 1  \n",
    "\n",
    "    if file_no > cnt :\n",
    "        break"
   ]
  },
  {
   "cell_type": "code",
   "execution_count": null,
   "metadata": {
    "scrolled": true
   },
   "outputs": [],
   "source": [
    "# 요약 정보를 출력합니다                \n",
    "e_time = time.time( )\n",
    "t_time = e_time - s_time\n",
    "\n",
    "store_cnt = file_no -1\n",
    "\n",
    "print(\"=\" *70)\n",
    "print(\"총 소요시간은 %s 초 입니다 \" %round(t_time,1))\n",
    "print(\"총 저장 건수는 %s 건 입니다 \" %store_cnt)\n",
    "print(\"파일 저장 경로: %s 입니다\" %img_dir)\n",
    "print(\"=\" *70)\n",
    "\n",
    "#driver.close( )"
   ]
  },
  {
   "cell_type": "code",
   "execution_count": null,
   "metadata": {},
   "outputs": [],
   "source": [
    "driver.close( )"
   ]
  },
  {
   "cell_type": "code",
   "execution_count": 1,
   "metadata": {},
   "outputs": [
    {
     "name": "stdout",
     "output_type": "stream",
     "text": [
      "================================================================================\n",
      " pixabay 사이트에서 이미지를 검색하여 수집하는 크롤러 입니다 \n",
      "================================================================================\n",
      "1.크롤링할 이미지의 키워드는 무엇입니까?: 고양이\n",
      "2.크롤링 할 건수는 몇건입니까?: 10\n",
      "3.파일이 저장될 경로만 쓰세요(예: c:\\py_temp\\ ) : \n",
      "\n",
      "\n",
      "요청하신 데이터를 수집 중이오니 잠시만 기다려 주세요~~^^\n"
     ]
    }
   ],
   "source": [
    "# Case 2. pixapay 사이트에서 그림 수집하기\n",
    "# Step 1. 필요한 모듈과 라이브러리를 로딩합니다.\n",
    "\n",
    "from bs4 import BeautifulSoup\n",
    "from selenium import webdriver as wd\n",
    "from selenium.webdriver.common.by import By\n",
    "from selenium.webdriver.common.keys import Keys\n",
    "from selenium.webdriver.chrome.service import Service\n",
    "import urllib.request\n",
    "import urllib\n",
    "import time\n",
    "import math\n",
    "import os\n",
    "import random\n",
    "\n",
    "#Step 2. 필요한 정보를 입력 받습니다.\n",
    "print(\"=\" *80)\n",
    "print(\" pixabay 사이트에서 이미지를 검색하여 수집하는 크롤러 입니다 \")\n",
    "print(\"=\" *80)\n",
    "\n",
    "query_txt = input('1.크롤링할 이미지의 키워드는 무엇입니까?: ')\n",
    "cnt = int(input('2.크롤링 할 건수는 몇건입니까?: '))\n",
    "real_cnt = math.ceil(cnt / 100) # 실제 크롤링 할 페이지 수\n",
    "f_dir=input('3.파일이 저장될 경로만 쓰세요(예: './py_temp\\\\ ) : ')\n",
    "if f_dir =='' :\n",
    "    f_dir = \"./py_temp\\\\\"\n",
    "    \n",
    "print(\"\\n\")\n",
    "print(\"요청하신 데이터를 수집 중이오니 잠시만 기다려 주세요~~^^\")\n",
    "\n",
    "#Step 3. 파일을 저장할 폴더를 생성합니다\n",
    "n = time.localtime()\n",
    "s = '%04d-%02d-%02d-%02d-%02d-%02d' % (n.tm_year, n.tm_mon, n.tm_mday, n.tm_hour, n.tm_min, n.tm_sec)\n",
    "\n",
    "img_dir = f_dir+s+'-'+query_txt\n",
    "os.makedirs(img_dir)\n",
    "os.chdir(img_dir)      "
   ]
  },
  {
   "cell_type": "code",
   "execution_count": 2,
   "metadata": {},
   "outputs": [
    {
     "data": {
      "text/plain": [
       "'E:\\\\python\\\\e-koreatech-webcrawling\\\\py_temp\\\\2023-08-27-16-54-16-고양이'"
      ]
     },
     "execution_count": 2,
     "metadata": {},
     "output_type": "execute_result"
    }
   ],
   "source": [
    "os.getcwd()"
   ]
  },
  {
   "cell_type": "code",
   "execution_count": 3,
   "metadata": {},
   "outputs": [],
   "source": [
    "#Step 4. 크롬 드라이버를 사용해서 웹 브라우저를 실행한 후 검색합니다\n",
    "s_time = time.time( )\n",
    "\n",
    "service = Service(r\"../../116/chromedriver.exe\")\n",
    "options = wd.ChromeOptions()\n",
    "driver = wd.Chrome(service=service, options=options)"
   ]
  },
  {
   "cell_type": "code",
   "execution_count": 4,
   "metadata": {},
   "outputs": [],
   "source": [
    "driver.get('https://pixabay.com/ko/')\n",
    "time.sleep(3)\n",
    "\n",
    "driver.maximize_window( )"
   ]
  },
  {
   "cell_type": "code",
   "execution_count": 5,
   "metadata": {},
   "outputs": [],
   "source": [
    "# 검색어 입력 창에 검색어 입력 후 검색 수행\n",
    "element = driver.find_element(By.NAME,'search')\n",
    "element.send_keys(query_txt)\n",
    "element.submit()"
   ]
  },
  {
   "cell_type": "code",
   "execution_count": 6,
   "metadata": {},
   "outputs": [],
   "source": [
    "#이미지 추출하여 저장하기 \n",
    "file_no = 1\n",
    "count = 1\n",
    "img_src2=[]    #이미지 파일의 url 주소 저장용 리스트"
   ]
  },
  {
   "cell_type": "code",
   "execution_count": 7,
   "metadata": {},
   "outputs": [],
   "source": [
    "# 스크롤 다운 함수 만들기\n",
    "def scroll_down(driver):\n",
    "    #driver.execute_script(\"window.scrollTo(0,document.body.scrollHeight);\")\n",
    "    driver.execute_script(\"window.scrollBy(0,1000)\")\n",
    "    time.sleep(1)"
   ]
  },
  {
   "cell_type": "code",
   "execution_count": null,
   "metadata": {},
   "outputs": [],
   "source": [
    "for a in range(1 , real_cnt+1):  \n",
    "    \n",
    "    for b in range(0,5):\n",
    "        scroll_down(driver)\n",
    "        time.sleep(1)\n",
    "        \n",
    "    # 원본 이미지 url 주소 수집 \n",
    "    html = driver.page_source\n",
    "    soup = BeautifulSoup(html, 'html.parser')    \n",
    "    img_src = soup.find('div','row-masonry search-results').find_all('img')\n",
    "\n",
    "   \n",
    "    for c in img_src :\n",
    "        img_src1=c['src']\n",
    "        \n",
    "        if 'http' in img_src1 :\n",
    "            img_src2.append(img_src1)\n",
    "            print(img_src1)\n",
    "            \n",
    "        count += 1  \n",
    "        \n",
    "        if count > cnt :\n",
    "            break\n",
    "   "
   ]
  },
  {
   "cell_type": "code",
   "execution_count": null,
   "metadata": {},
   "outputs": [],
   "source": [
    "# 이미지 다운로드하여 저장하기 - 인증 정보 넣지 않을 경우 HTTPError 에러 발생\n",
    "for i in range(0,len(img_src2)) :\n",
    "        #try :\n",
    "        urllib.request.urlretrieve(img_src2[i],str(file_no)+'.jpg')\n",
    "        #except :\n",
    "        #        continue        \n",
    "            \n",
    "        time.sleep(0.5)      \n",
    "        print(\"%s 번째 이미지 저장중입니다=======\" %file_no)\n",
    "        \n",
    "        file_no += 1  \n",
    "                \n",
    "        if file_no > cnt :\n",
    "            break"
   ]
  },
  {
   "cell_type": "code",
   "execution_count": null,
   "metadata": {},
   "outputs": [],
   "source": [
    "         \n",
    "    #수집된 url 주소로 이미지 파일 가져와서 저장하기\n",
    "    for e in range(0,len(img_src2)) :\n",
    "\n",
    "        class AppURLopener(urllib.request.FancyURLopener):\n",
    "            version = \"Mozilla/5.0 (Windows NT 6.3; WOW64) AppleWebKit/537.36 (KHTML, like Gecko) \\\n",
    "                       Chrome/47.0.2526.69 Safari/537.36\"\n",
    "\n",
    "        urllib.urlopener = AppURLopener()\n",
    "        urllib.urlopener.retrieve(img_src2[e],str(file_no)+'.jpg')\n",
    "\n",
    "        print(\"%s 페이지에서 %s 번째 이미지 저장중입니다=======\" %(a,file_no))\n",
    "\n",
    "        time.sleep(0.5) \n",
    "\n",
    "        if file_no >= cnt :\n",
    "                break\n",
    "\n",
    "        file_no += 1  \n",
    "                \n",
    "#     if a > real_cnt :\n",
    "#         break\n",
    "\n",
    "# Step 6. 요약 정보를 출력합니다                \n",
    "e_time = time.time( )\n",
    "t_time = e_time - s_time\n",
    "\n",
    "print(\"=\" *70)\n",
    "print(\"총 소요시간은 %s 초 입니다 \" %round(t_time,1))\n",
    "print(\"총 저장 건수는 %s 건 입니다 \" %file_no)\n",
    "print(\"파일 저장 경로: %s 입니다\" %img_dir)\n",
    "print(\"=\" *70)\n",
    "\n",
    "driver.close( )"
   ]
  },
  {
   "cell_type": "code",
   "execution_count": null,
   "metadata": {},
   "outputs": [],
   "source": []
  }
 ],
 "metadata": {
  "kernelspec": {
   "display_name": "Python 3 (ipykernel)",
   "language": "python",
   "name": "python3"
  },
  "language_info": {
   "codemirror_mode": {
    "name": "ipython",
    "version": 3
   },
   "file_extension": ".py",
   "mimetype": "text/x-python",
   "name": "python",
   "nbconvert_exporter": "python",
   "pygments_lexer": "ipython3",
   "version": "3.10.7"
  }
 },
 "nbformat": 4,
 "nbformat_minor": 2
}
