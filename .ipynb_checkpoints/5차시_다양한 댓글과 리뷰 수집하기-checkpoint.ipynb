{
 "cells": [
  {
   "cell_type": "code",
   "execution_count": 1,
   "metadata": {},
   "outputs": [],
   "source": [
    "#Step 1. 필요한 모듈과 라이브러리를 로딩합니다.\n",
    "from bs4 import BeautifulSoup\n",
    "from selenium import webdriver as wd\n",
    "from selenium.webdriver.common.by import By\n",
    "from selenium.webdriver.common.keys import Keys\n",
    "from selenium.webdriver.chrome.service import Service\n",
    "from webdriver_manager.chrome import ChromeDriverManager\n",
    "import time\n",
    "import math\n",
    "import numpy  \n",
    "import pandas as pd  \n",
    "import os"
   ]
  },
  {
   "cell_type": "code",
   "execution_count": 2,
   "metadata": {},
   "outputs": [
    {
     "name": "stdout",
     "output_type": "stream",
     "text": [
      "================================================================================\n",
      "뉴스 기사의 댓글 정보 수집하기\n",
      "================================================================================\n",
      "1.크롤링 할 뉴스 리뷰 건수는 몇건입니까?(기본값: 20건): 5\n"
     ]
    }
   ],
   "source": [
    "#Step 2. 사용자에게 검색어 키워드를 입력 받고 저장할 폴더와 파일명을 설정합니다.\n",
    "print(\"=\" *80)\n",
    "print(\"뉴스 기사의 댓글 정보 수집하기\")\n",
    "print(\"=\" *80)\n",
    "\n",
    "query_txt = '뉴스기사댓글'\n",
    "query_url = 'https://news.naver.com/main/read.nhn?mode=LSD&mid=shm&sid1=102&oid=056&aid=0010661268'\n",
    "try :\n",
    "    cnt = int(input('1.크롤링 할 뉴스 리뷰 건수는 몇건입니까?(기본값: 20건): '))\n",
    "except ValueError :\n",
    "    cnt = 20\n",
    "\n",
    "page_cnt = math.ceil(cnt / 20)"
   ]
  },
  {
   "cell_type": "code",
   "execution_count": 3,
   "metadata": {},
   "outputs": [
    {
     "name": "stdout",
     "output_type": "stream",
     "text": [
      "2.결과를 파일을 저장할 폴더명만 쓰세요(기본값:./py_temp/):\n"
     ]
    }
   ],
   "source": [
    "f_dir = input(\"2.결과를 파일을 저장할 폴더명만 쓰세요(기본값:./py_temp/):\")\n",
    "if f_dir=='' :\n",
    "    f_dir='./py_temp/'"
   ]
  },
  {
   "cell_type": "code",
   "execution_count": 4,
   "metadata": {},
   "outputs": [],
   "source": [
    "# 저장될 파일위치와 이름을 지정합니다\n",
    "now = time.localtime()\n",
    "s = '%04d-%02d-%02d-%02d-%02d-%02d' % (now.tm_year, now.tm_mon, now.tm_mday, \\\n",
    "                                       now.tm_hour, now.tm_min, now.tm_sec)\n",
    "\n",
    "os.makedirs(f_dir+s+'-'+query_txt)\n",
    "os.chdir(f_dir+s+'-'+query_txt)\n",
    "\n",
    "ff_name=f_dir+s+'-'+query_txt+'/'+s+'-'+query_txt+'.txt'\n",
    "fc_name=f_dir+s+'-'+query_txt+'/'+s+'-'+query_txt+'.csv'\n",
    "fx_name=f_dir+s+'-'+query_txt+'/'+s+'-'+query_txt+'.xls'"
   ]
  },
  {
   "cell_type": "code",
   "execution_count": 5,
   "metadata": {},
   "outputs": [],
   "source": [
    "#Step 3. 크롬 드라이버를 사용해서 웹 브라우저를 실행합니다.\n",
    "s_time = time.time( )\n",
    "\n",
    "service = Service(r\"../../116/chromedriver.exe\")\n",
    "options = wd.ChromeOptions()\n",
    "driver = wd.Chrome(service=service, options=options)\n",
    "\n",
    "driver.get(query_url)\n",
    "driver.maximize_window()\n",
    "time.sleep(5)"
   ]
  },
  {
   "cell_type": "code",
   "execution_count": 6,
   "metadata": {},
   "outputs": [
    {
     "name": "stdout",
     "output_type": "stream",
     "text": [
      "================================================================================\n"
     ]
    }
   ],
   "source": [
    "\n",
    "# 현재 총 리뷰 건수를 확인하여 사용자의 요청건수와 비교 후 동기화합니다\n",
    "html = driver.page_source\n",
    "soup = BeautifulSoup(html, 'html.parser')\n",
    "\n",
    "result= soup.find('div','media_end_head_info_variety_cmtcount _COMMENT_HIDE').get_text()\n",
    "\n",
    "print(\"=\" *80)\n",
    "search_cnt = int( result.replace(\",\",\"\"))"
   ]
  },
  {
   "cell_type": "code",
   "execution_count": 7,
   "metadata": {},
   "outputs": [
    {
     "data": {
      "text/plain": [
       "505"
      ]
     },
     "execution_count": 7,
     "metadata": {},
     "output_type": "execute_result"
    }
   ],
   "source": [
    "search_cnt"
   ]
  },
  {
   "cell_type": "code",
   "execution_count": 8,
   "metadata": {},
   "outputs": [
    {
     "name": "stdout",
     "output_type": "stream",
     "text": [
      "전체 검색 결과 건수 : 505 건\n",
      "실제 최종 출력 건수 : 5\n",
      "총 페이지 수: 1\n"
     ]
    }
   ],
   "source": [
    "if cnt > search_cnt :\n",
    "    cnt = search_cnt\n",
    "\n",
    "print(\"전체 검색 결과 건수 :\",search_cnt,\"건\")\n",
    "print(\"실제 최종 출력 건수 :\",cnt)\n",
    "print(\"총 페이지 수:\" , page_cnt)"
   ]
  },
  {
   "cell_type": "code",
   "execution_count": 9,
   "metadata": {
    "scrolled": false
   },
   "outputs": [
    {
     "name": "stdout",
     "output_type": "stream",
     "text": [
      "이제 리뷰 정보를 수집합니다. 잠시만 기다려 주세요~~~~~~~~\n"
     ]
    },
    {
     "ename": "FileNotFoundError",
     "evalue": "[Errno 2] No such file or directory: './py_temp/2023-08-22-13-16-44-뉴스기사댓글/2023-08-22-13-16-44-뉴스기사댓글.txt'",
     "output_type": "error",
     "traceback": [
      "\u001b[1;31m---------------------------------------------------------------------------\u001b[0m",
      "\u001b[1;31mFileNotFoundError\u001b[0m                         Traceback (most recent call last)",
      "Cell \u001b[1;32mIn[9], line 29\u001b[0m\n\u001b[0;32m     26\u001b[0m \u001b[38;5;28mprint\u001b[39m(\u001b[38;5;124m'\u001b[39m\u001b[38;5;124m이제 리뷰 정보를 수집합니다. 잠시만 기다려 주세요~~~~~~~~\u001b[39m\u001b[38;5;124m'\u001b[39m)\n\u001b[0;32m     28\u001b[0m \u001b[38;5;66;03m#txt 파일에 저장하기 위해 파일 open하기\u001b[39;00m\n\u001b[1;32m---> 29\u001b[0m f \u001b[38;5;241m=\u001b[39m \u001b[38;5;28;43mopen\u001b[39;49m\u001b[43m(\u001b[49m\u001b[43mff_name\u001b[49m\u001b[43m,\u001b[49m\u001b[43m \u001b[49m\u001b[38;5;124;43m'\u001b[39;49m\u001b[38;5;124;43ma\u001b[39;49m\u001b[38;5;124;43m'\u001b[39;49m\u001b[43m,\u001b[49m\u001b[43mencoding\u001b[49m\u001b[38;5;241;43m=\u001b[39;49m\u001b[38;5;124;43m'\u001b[39;49m\u001b[38;5;124;43mUTF-8\u001b[39;49m\u001b[38;5;124;43m'\u001b[39;49m\u001b[43m)\u001b[49m\n\u001b[0;32m     31\u001b[0m html \u001b[38;5;241m=\u001b[39m driver\u001b[38;5;241m.\u001b[39mpage_source\n\u001b[0;32m     32\u001b[0m soup \u001b[38;5;241m=\u001b[39m BeautifulSoup(html, \u001b[38;5;124m'\u001b[39m\u001b[38;5;124mhtml.parser\u001b[39m\u001b[38;5;124m'\u001b[39m)\n",
      "File \u001b[1;32m~\\AppData\\Roaming\\Python\\Python39\\site-packages\\IPython\\core\\interactiveshell.py:282\u001b[0m, in \u001b[0;36m_modified_open\u001b[1;34m(file, *args, **kwargs)\u001b[0m\n\u001b[0;32m    275\u001b[0m \u001b[38;5;28;01mif\u001b[39;00m file \u001b[38;5;129;01min\u001b[39;00m {\u001b[38;5;241m0\u001b[39m, \u001b[38;5;241m1\u001b[39m, \u001b[38;5;241m2\u001b[39m}:\n\u001b[0;32m    276\u001b[0m     \u001b[38;5;28;01mraise\u001b[39;00m \u001b[38;5;167;01mValueError\u001b[39;00m(\n\u001b[0;32m    277\u001b[0m         \u001b[38;5;124mf\u001b[39m\u001b[38;5;124m\"\u001b[39m\u001b[38;5;124mIPython won\u001b[39m\u001b[38;5;124m'\u001b[39m\u001b[38;5;124mt let you open fd=\u001b[39m\u001b[38;5;132;01m{\u001b[39;00mfile\u001b[38;5;132;01m}\u001b[39;00m\u001b[38;5;124m by default \u001b[39m\u001b[38;5;124m\"\u001b[39m\n\u001b[0;32m    278\u001b[0m         \u001b[38;5;124m\"\u001b[39m\u001b[38;5;124mas it is likely to crash IPython. If you know what you are doing, \u001b[39m\u001b[38;5;124m\"\u001b[39m\n\u001b[0;32m    279\u001b[0m         \u001b[38;5;124m\"\u001b[39m\u001b[38;5;124myou can use builtins\u001b[39m\u001b[38;5;124m'\u001b[39m\u001b[38;5;124m open.\u001b[39m\u001b[38;5;124m\"\u001b[39m\n\u001b[0;32m    280\u001b[0m     )\n\u001b[1;32m--> 282\u001b[0m \u001b[38;5;28;01mreturn\u001b[39;00m io_open(file, \u001b[38;5;241m*\u001b[39margs, \u001b[38;5;241m*\u001b[39m\u001b[38;5;241m*\u001b[39mkwargs)\n",
      "\u001b[1;31mFileNotFoundError\u001b[0m: [Errno 2] No such file or directory: './py_temp/2023-08-22-13-16-44-뉴스기사댓글/2023-08-22-13-16-44-뉴스기사댓글.txt'"
     ]
    }
   ],
   "source": [
    "# 사용자가 요청한 건수가 많을 경우 리뷰 더보기 버튼을 클릭합니다\n",
    "# 최초 10건 수집후 댓글 더보기 버튼 클릭\n",
    "# 아래 버튼을 눌러 첫 화면에 총 20건의 댓글이 나오게 만듦\n",
    "driver.find_element(By.XPATH,'//*[@id=\"cbox_module\"]/div/div[9]/a/span[1]').click()\n",
    "time.sleep(3)\n",
    "\n",
    "#Step 6. 20건 출력되어 있는 현재 페이지 리뷰와 점수 등 내용 수집\n",
    "no2= []             # 리뷰 번호 \n",
    "writer_id2=[]       # 리뷰 작성자 ID\n",
    "review2=[]          # 리뷰 내용\n",
    "write_date2=[]      # 리뷰 작성 일자\n",
    "gogam_0=[]          # 공감 횟수\n",
    "gogam_1=[]          # 비공감 횟수\n",
    "count = 0\n",
    "\n",
    "for a in range(1,page_cnt+1) :\n",
    "    \n",
    "    if a == page_cnt :\n",
    "          break\n",
    "    else :\n",
    "        driver.find_element(By.XPATH,'//*[@id=\"cbox_module\"]/div/div[9]/a').click() \n",
    "        time.sleep(3)\n",
    "        print(\"%s페이지 이동 완료=================================================\" %a)\n",
    "        time.sleep(random.randrange(1,3))  # 3-8 초 사이에 랜덤으로 시간 선택\n",
    "\n",
    "print('이제 리뷰 정보를 수집합니다. 잠시만 기다려 주세요~~~~~~~~')\n",
    "\n",
    "#txt 파일에 저장하기 위해 파일 open하기\n",
    "f = open(ff_name, 'a',encoding='UTF-8')\n",
    "\n",
    "html = driver.page_source\n",
    "soup = BeautifulSoup(html, 'html.parser')\n",
    "\n",
    "slist = soup.find('ul', 'u_cbox_list').find_all('li')\n",
    "\n",
    "for li in slist:\n",
    "    count += 1\n",
    "    print(\"\\n\")\n",
    "    print(\"총 %s건 중 %s번째 댓글 수집 중입니다 ==================\" %(cnt,count))\n",
    "    \n",
    "    # 리뷰 번호 저장\n",
    "    no2.append(count)\n",
    "    \n",
    "    # 리뷰 작성자 ID 저장\n",
    "    writer_id = li.find('span','u_cbox_nick').get_text()\n",
    "    print(\"1.작성자ID:\", writer_id)\n",
    "    f.write(\"\\n\")\n",
    "    f.write(\"총 %s 건 중 %s 번째 리뷰 데이터를 수집합니다==============\" %(cnt,count) + \"\\n\")\n",
    "    f.write(\"1.작성자ID:\"+writer_id + \"\\n\")\n",
    "    writer_id2.append(writer_id)\n",
    "    \n",
    "    #리뷰 내용 저장\n",
    "    try :\n",
    "        review = li.find('span', class_='u_cbox_contents').get_text()\n",
    "    except AttributeError :\n",
    "        review='작성자에 의해 삭제된 댓글입니다'\n",
    "        print(\"2.리뷰 :\",review)\n",
    "    else :\n",
    "        print(\"2.리뷰:\",review)\n",
    "    f.write(\"2.리뷰:\" + review + \"\\n\")\n",
    "    review2.append(review)\n",
    "\n",
    "    # 리뷰 작성일자 저장\n",
    "    write_date = li.find('span',class_='u_cbox_date').get_text()\n",
    "    print('3.작성일자:',write_date)\n",
    "    f.write(\"3.작성일자:\" + write_date + \"\\n\")\n",
    "    write_date2.append(write_date)\n",
    "\n",
    "    # 공감 / 비공감 횟수 저장\n",
    "    gogam = li.find('div', class_='u_cbox_recomm_set').find_all('em')\n",
    "    \n",
    "    try :\n",
    "        g_gogam = gogam[0].text\n",
    "        print('4.공감:',g_gogam)\n",
    "    except IndexError :\n",
    "        g_gogam = '0'\n",
    "        print('4.공감 :',g_gogam)\n",
    "    f.write(\"4.공감:\" + g_gogam + \"\\n\")\n",
    "    gogam_0.append(g_gogam)\n",
    "\n",
    "    try :\n",
    "        b_gogam = gogam[1].text\n",
    "        print('5.비공감:',b_gogam) \n",
    "    except IndexError :\n",
    "        b_gogam = '0'\n",
    "        print('5.비공감 :',b_gogam)\n",
    "    f.write(\"5.비공감:\" + b_gogam + \"\\n\")\n",
    "    gogam_1.append(b_gogam)\n",
    "      \n",
    "    time.sleep(0.2)      \n",
    "\n",
    "    if count == cnt :\n",
    "         break"
   ]
  },
  {
   "cell_type": "code",
   "execution_count": null,
   "metadata": {},
   "outputs": [],
   "source": [
    "# 출력 결과를 표(데이터 프레임) 형태로 만들기\n",
    "news_review = pd.DataFrame()\n",
    "news_review['번호'] = no2\n",
    "news_review['작성자ID'] = pd.Series(writer_id2)\n",
    "news_review['리뷰내용'] = pd.Series(review2)\n",
    "news_review['작성일자'] = pd.Series(write_date2)\n",
    "news_review['공감횟수'] = pd.Series(gogam_0)\n",
    "news_review['비공감횟수'] = pd.Series(gogam_0)\n",
    "\n",
    "# csv 형태로 저장하기\n",
    "news_review.to_csv(fc_name,encoding=\"utf-8-sig\",index=False)\n",
    "print(\" csv 파일 저장 경로: %s\" %fc_name) \n",
    "\n",
    "# 엑셀 형태로 저장하기\n",
    "news_review.to_excel(fx_name , index=False , encoding=\"UTF-8\" , engine='openpyxl')\n",
    "print(\" xls 파일 저장 경로: %s\" %fx_name) "
   ]
  },
  {
   "cell_type": "code",
   "execution_count": null,
   "metadata": {},
   "outputs": [],
   "source": [
    "import random"
   ]
  },
  {
   "cell_type": "code",
   "execution_count": null,
   "metadata": {},
   "outputs": [],
   "source": [
    "random.randrange(1,3)\n"
   ]
  },
  {
   "cell_type": "code",
   "execution_count": null,
   "metadata": {},
   "outputs": [],
   "source": []
  }
 ],
 "metadata": {
  "kernelspec": {
   "display_name": "Python 3 (ipykernel)",
   "language": "python",
   "name": "python3"
  },
  "language_info": {
   "codemirror_mode": {
    "name": "ipython",
    "version": 3
   },
   "file_extension": ".py",
   "mimetype": "text/x-python",
   "name": "python",
   "nbconvert_exporter": "python",
   "pygments_lexer": "ipython3",
   "version": "3.9.1"
  }
 },
 "nbformat": 4,
 "nbformat_minor": 2
}
